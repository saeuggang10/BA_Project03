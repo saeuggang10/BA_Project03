{
 "cells": [
  {
   "cell_type": "code",
   "execution_count": null,
   "metadata": {},
   "outputs": [],
   "source": [
    "# 웹크롤링\n",
    "from urllib import parse\n",
    "from bs4 import BeautifulSoup\n",
    "import requests"
   ]
  },
  {
   "cell_type": "markdown",
   "metadata": {},
   "source": [
    "#### 도로 위험지수\n",
    "![Alt text](image.png)\n",
    "\n",
    "<br/>\n",
    "\n",
    "👉️ <a href='https://taas.koroad.or.kr/web/shp/sbm/initRiskRoadFrcstSys.do?menuId=WEB_KMP_TAI_AFS'>출처</a>"
   ]
  },
  {
   "cell_type": "code",
   "execution_count": null,
   "metadata": {},
   "outputs": [],
   "source": [
    "# 도로의 위험지수가 3이상인 값만 읽어들이는 함수\n",
    "\n",
    "def danger_streat(rs_html):\n",
    "    # xml값 읽어들이기\n",
    "    rng = int(rs_html.find_all('totalCount')[0].text)\n",
    "    ls = rs_html.find_all('line_string')\n",
    "    av = rs_html.find_all('anals_value')\n",
    "    ag = rs_html.find_all('anals_grd')\n",
    "    \n",
    "    # 태그 속 값만 추출 -> df\n",
    "    col = ['x1', 'y1', 'x2', 'y2', 'danger', 'danger_rank', 'center_x', 'center_y']\n",
    "    df_danger = pd.DataFrame([np.zeros(len(col))], columns=col)\n",
    "    \n",
    "    for i in range(rng):\n",
    "        temp = ls[i].text[1:-1]\n",
    "        temp = temp.replace(', ', ' ')\n",
    "        temp = temp.split(' ')\n",
    "        \n",
    "        y1 = float(temp[0])\n",
    "        x1 = float(temp[1])\n",
    "        y2 = float(temp[2])\n",
    "        x2 = float(temp[3])\n",
    "        c_x = (x1+x2)/2\n",
    "        c_y = (y1+y2)/2\n",
    "\n",
    "        bb = float(av[i].text)\n",
    "        cc = int(ag[i].text)\n",
    "        df_dange.loc[i] = [x1, y1, x2, y2,bb,cc, c_x, c_y]\n",
    "        \n",
    "    # rank>=3, index재정렬\n",
    "    df_danger = df_danger[df_danger['danger_rank']>=3]\n",
    "    df_danger = df_danger.reset_index(drop=True)\n",
    "    \n",
    "    return df_danger"
   ]
  },
  {
   "cell_type": "markdown",
   "metadata": {},
   "source": [
    "- 도로교통공사 홈페이지 이전문제로 고속도로목록 크롤링이 안되어 Dgdgr_Highway_CodeList.xlsx파일로 전달받은 후 사용"
   ]
  },
  {
   "cell_type": "code",
   "execution_count": null,
   "metadata": {},
   "outputs": [],
   "source": [
    "### Open_API\n",
    "url = 'http://taas.koroad.or.kr/data/rest/road/dgdgr/highway'\n",
    "key = '인증키'\n",
    "\n",
    "df_danger2 = None\n",
    "a = pd.read_excel(file_path + 'Dgdgr_Highway_CodeList.xlsx')\n",
    "a = a.fillna(method='ffill')\n",
    "\n",
    "for name, ic_code in zip(a.iloc[:1000,0], a.iloc[:1000,1]):\n",
    "    queryParams = f'?{parse.quote_plus(\"authKey\")}={key}&' + parse.urlencode(\n",
    "        {\n",
    "            parse.quote_plus('frwyNm'): name,  #고속도로목록\n",
    "            parse.quote_plus('frwySctnNm'): ic_code,  #고속도로구간목록\n",
    "            parse.quote_plus('vhctyCd'): '01',  #차종조회\n",
    "            parse.quote_plus('type'): 'xml'\n",
    "        })\n",
    "\n",
    "    request2 = requests.get(url + queryParams)\n",
    "\n",
    "    rs_text = request2.text\n",
    "    rs_html = BeautifulSoup(rs_text, \"xml\")\n",
    "    \n",
    "    time.sleep(2) #교통량이 많은 지역에서 오류발생 #sleep으로 for문 간격두고 실행\n",
    "\n",
    "    # df만들기\n",
    "    df_danger2 = pd.concat([df_danger2, danger_streat(rs_html)], ignore_index=True)"
   ]
  },
  {
   "cell_type": "code",
   "execution_count": null,
   "metadata": {},
   "outputs": [],
   "source": [
    "# df -> csv 파일로 저장\n",
    "df_danger2.to_csv('./data/danger.csv', index=False)"
   ]
  }
 ],
 "metadata": {
  "kernelspec": {
   "display_name": "busan_django",
   "language": "python",
   "name": "python3"
  },
  "language_info": {
   "codemirror_mode": {
    "name": "ipython",
    "version": 3
   },
   "file_extension": ".py",
   "mimetype": "text/x-python",
   "name": "python",
   "nbconvert_exporter": "python",
   "pygments_lexer": "ipython3",
   "version": "3.9.16"
  }
 },
 "nbformat": 4,
 "nbformat_minor": 2
}
